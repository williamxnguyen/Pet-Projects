{
 "cells": [
  {
   "cell_type": "markdown",
   "metadata": {},
   "source": [
    "# Project Finding Donors for Charity ML\n",
    "\n",
    "## Getting Started\n",
    "In this project, I will employ several supervised algorithms of my choice to accurately model **_individuals' income_** using data collected from the 1994 U.S. Census. Afterwards, I will choose the best candidate algorithm from preliminary results and further optimize this algorithm to best model the data. My goal with this implementation is to construct a model that accurately predicts whether an individual makes more than $50,000. \n",
    "\n",
    "This sort of task can arise in a non-profit setting, where organizations survive on donations. Understanding an individual's income can help a non-profit better understand how large of a donation to request, or whether or not they should reach out to begin with. While it can be difficult to determine an individual's general income bracket directly from public sources, I can infer this value from other publically available features.\n",
    "\n",
    "The data we investigate here consists of small changes to the original dataset, such as removing the 'fnlwgt' feature and records with missing or ill-formatted entries.\n",
    "\n",
    "## Exploring the Data\n",
    "Note that the last column from this dataset, 'income', will be the target label (whether an individual makes more than, or at most, $50,000 annually). All other columns are features about each individual in the census database."
   ]
  },
  {
   "cell_type": "code",
   "execution_count": 1,
   "metadata": {},
   "outputs": [
    {
     "data": {
      "text/html": [
       "<div>\n",
       "<style scoped>\n",
       "    .dataframe tbody tr th:only-of-type {\n",
       "        vertical-align: middle;\n",
       "    }\n",
       "\n",
       "    .dataframe tbody tr th {\n",
       "        vertical-align: top;\n",
       "    }\n",
       "\n",
       "    .dataframe thead th {\n",
       "        text-align: right;\n",
       "    }\n",
       "</style>\n",
       "<table border=\"1\" class=\"dataframe\">\n",
       "  <thead>\n",
       "    <tr style=\"text-align: right;\">\n",
       "      <th></th>\n",
       "      <th>age</th>\n",
       "      <th>workclass</th>\n",
       "      <th>education_level</th>\n",
       "      <th>education-num</th>\n",
       "      <th>marital-status</th>\n",
       "      <th>occupation</th>\n",
       "      <th>relationship</th>\n",
       "      <th>race</th>\n",
       "      <th>sex</th>\n",
       "      <th>capital-gain</th>\n",
       "      <th>capital-loss</th>\n",
       "      <th>hours-per-week</th>\n",
       "      <th>native-country</th>\n",
       "      <th>income</th>\n",
       "    </tr>\n",
       "  </thead>\n",
       "  <tbody>\n",
       "    <tr>\n",
       "      <th>0</th>\n",
       "      <td>39</td>\n",
       "      <td>State-gov</td>\n",
       "      <td>Bachelors</td>\n",
       "      <td>13.0</td>\n",
       "      <td>Never-married</td>\n",
       "      <td>Adm-clerical</td>\n",
       "      <td>Not-in-family</td>\n",
       "      <td>White</td>\n",
       "      <td>Male</td>\n",
       "      <td>2174.0</td>\n",
       "      <td>0.0</td>\n",
       "      <td>40.0</td>\n",
       "      <td>United-States</td>\n",
       "      <td>&lt;=50K</td>\n",
       "    </tr>\n",
       "    <tr>\n",
       "      <th>1</th>\n",
       "      <td>50</td>\n",
       "      <td>Self-emp-not-inc</td>\n",
       "      <td>Bachelors</td>\n",
       "      <td>13.0</td>\n",
       "      <td>Married-civ-spouse</td>\n",
       "      <td>Exec-managerial</td>\n",
       "      <td>Husband</td>\n",
       "      <td>White</td>\n",
       "      <td>Male</td>\n",
       "      <td>0.0</td>\n",
       "      <td>0.0</td>\n",
       "      <td>13.0</td>\n",
       "      <td>United-States</td>\n",
       "      <td>&lt;=50K</td>\n",
       "    </tr>\n",
       "    <tr>\n",
       "      <th>2</th>\n",
       "      <td>38</td>\n",
       "      <td>Private</td>\n",
       "      <td>HS-grad</td>\n",
       "      <td>9.0</td>\n",
       "      <td>Divorced</td>\n",
       "      <td>Handlers-cleaners</td>\n",
       "      <td>Not-in-family</td>\n",
       "      <td>White</td>\n",
       "      <td>Male</td>\n",
       "      <td>0.0</td>\n",
       "      <td>0.0</td>\n",
       "      <td>40.0</td>\n",
       "      <td>United-States</td>\n",
       "      <td>&lt;=50K</td>\n",
       "    </tr>\n",
       "    <tr>\n",
       "      <th>3</th>\n",
       "      <td>53</td>\n",
       "      <td>Private</td>\n",
       "      <td>11th</td>\n",
       "      <td>7.0</td>\n",
       "      <td>Married-civ-spouse</td>\n",
       "      <td>Handlers-cleaners</td>\n",
       "      <td>Husband</td>\n",
       "      <td>Black</td>\n",
       "      <td>Male</td>\n",
       "      <td>0.0</td>\n",
       "      <td>0.0</td>\n",
       "      <td>40.0</td>\n",
       "      <td>United-States</td>\n",
       "      <td>&lt;=50K</td>\n",
       "    </tr>\n",
       "    <tr>\n",
       "      <th>4</th>\n",
       "      <td>28</td>\n",
       "      <td>Private</td>\n",
       "      <td>Bachelors</td>\n",
       "      <td>13.0</td>\n",
       "      <td>Married-civ-spouse</td>\n",
       "      <td>Prof-specialty</td>\n",
       "      <td>Wife</td>\n",
       "      <td>Black</td>\n",
       "      <td>Female</td>\n",
       "      <td>0.0</td>\n",
       "      <td>0.0</td>\n",
       "      <td>40.0</td>\n",
       "      <td>Cuba</td>\n",
       "      <td>&lt;=50K</td>\n",
       "    </tr>\n",
       "  </tbody>\n",
       "</table>\n",
       "</div>"
      ],
      "text/plain": [
       "   age          workclass education_level  education-num       marital-status  \\\n",
       "0   39          State-gov       Bachelors           13.0        Never-married   \n",
       "1   50   Self-emp-not-inc       Bachelors           13.0   Married-civ-spouse   \n",
       "2   38            Private         HS-grad            9.0             Divorced   \n",
       "3   53            Private            11th            7.0   Married-civ-spouse   \n",
       "4   28            Private       Bachelors           13.0   Married-civ-spouse   \n",
       "\n",
       "           occupation    relationship    race      sex  capital-gain  \\\n",
       "0        Adm-clerical   Not-in-family   White     Male        2174.0   \n",
       "1     Exec-managerial         Husband   White     Male           0.0   \n",
       "2   Handlers-cleaners   Not-in-family   White     Male           0.0   \n",
       "3   Handlers-cleaners         Husband   Black     Male           0.0   \n",
       "4      Prof-specialty            Wife   Black   Female           0.0   \n",
       "\n",
       "   capital-loss  hours-per-week  native-country income  \n",
       "0           0.0            40.0   United-States  <=50K  \n",
       "1           0.0            13.0   United-States  <=50K  \n",
       "2           0.0            40.0   United-States  <=50K  \n",
       "3           0.0            40.0   United-States  <=50K  \n",
       "4           0.0            40.0            Cuba  <=50K  "
      ]
     },
     "execution_count": 1,
     "metadata": {},
     "output_type": "execute_result"
    }
   ],
   "source": [
    "#Importing necessary libraries \n",
    "import pandas as pd \n",
    "from time import time\n",
    "import numpy as np\n",
    "\n",
    "#import supplementary visualization code visuals.py\n",
    "import visuals as vs\n",
    "\n",
    "#Seeing graphs inline\n",
    "%matplotlib inline\n",
    "import matplotlib.pyplot as plt\n",
    "import seaborn as sns\n",
    "\n",
    "#Loading dataset\n",
    "df = pd.read_csv('census.csv')\n",
    "df.head()"
   ]
  },
  {
   "cell_type": "markdown",
   "metadata": {},
   "source": [
    "### Data Exploration\n",
    "Investigating the dataset to determine how many individuals fit into either groups and showing the percentage of people making more than $50,000 a year. "
   ]
  },
  {
   "cell_type": "code",
   "execution_count": 2,
   "metadata": {},
   "outputs": [
    {
     "name": "stdout",
     "output_type": "stream",
     "text": [
      "Total number of records: 45222\n",
      "Number of individuals making more than $50,000 annually: 11208\n",
      "Number of individuals making at most $50,000 annually: 34014\n",
      "Percentage of individuals making more than $50,000: 24.78%\n"
     ]
    }
   ],
   "source": [
    "#Total number of records\n",
    "n_records = len(df)\n",
    "\n",
    "#Number of individuals making more than $50,000 anually \n",
    "n_greater_50k = len(df[df['income']=='>50K'])\n",
    "\n",
    "#Number of individuals making at most 50k a year\n",
    "n_at_most_50k = len(df[df['income']=='<=50K'])\n",
    "\n",
    "#Percentage of individuals making more than 50k anually\n",
    "greater_percent = n_greater_50k / n_records * 100 \n",
    "\n",
    "print(\"Total number of records: {}\".format(n_records))\n",
    "print(\"Number of individuals making more than $50,000 annually: {}\".format(n_greater_50k))\n",
    "print(\"Number of individuals making at most $50,000 annually: {}\".format(n_at_most_50k))\n",
    "print(\"Percentage of individuals making more than $50,000: {:.2f}%\".format(greater_percent))"
   ]
  },
  {
   "cell_type": "code",
   "execution_count": 3,
   "metadata": {},
   "outputs": [
    {
     "data": {
      "text/plain": [
       "<matplotlib.axes._subplots.AxesSubplot at 0x1a1a00ba0f0>"
      ]
     },
     "execution_count": 3,
     "metadata": {},
     "output_type": "execute_result"
    },
    {
     "data": {
      "image/png": "[encoded data removed]",
      "text/plain": [
       "<Figure size 1080x360 with 2 Axes>"
      ]
     },
     "metadata": {},
     "output_type": "display_data"
    }
   ],
   "source": [
    "f,ax1 = plt.subplots(figsize=(15,5),nrows=2)\n",
    "sns.countplot(x='age',hue='income',data=df,ax=ax1[0])\n",
    "sns.countplot(x='income',hue='education_level',data=df,ax=ax1[1])"
   ]
  },
  {
   "cell_type": "code",
   "execution_count": 4,
   "metadata": {},
   "outputs": [
    {
     "data": {
      "text/plain": [
       "<matplotlib.axes._subplots.AxesSubplot at 0x1a1a03e45f8>"
      ]
     },
     "execution_count": 4,
     "metadata": {},
     "output_type": "execute_result"
    },
    {
     "data": {
      "image/png": "[encoded data removed]",
      "text/plain": [
       "<Figure size 1080x720 with 6 Axes>"
      ]
     },
     "metadata": {},
     "output_type": "display_data"
    }
   ],
   "source": [
    "f,ax2 = plt.subplots(figsize=(15,10),ncols=2,nrows=3)\n",
    "sns.barplot(x='income',y='capital-gain',data=df,ax=ax2[0][0])\n",
    "sns.barplot(x='income',y='capital-loss',data=df,ax=ax2[0][1])\n",
    "sns.countplot(x='income',hue='sex',data=df,ax=ax2[1][0])\n",
    "sns.countplot(x='income',hue='race',data=df,ax=ax2[1][1])\n",
    "sns.countplot(x='income',hue='marital-status',data=df,ax=ax2[2][0])\n",
    "sns.countplot(x='income',hue='workclass',data=df,ax=ax2[2][1])"
   ]
  },
  {
   "cell_type": "markdown",
   "metadata": {},
   "source": [
    "\n"
   ]
  },
  {
   "cell_type": "markdown",
   "metadata": {},
   "source": [
    "## Data Preprocessing\n",
    "Before data can be used as input for machine learning algorithms, it often must be cleaned, formatted, and restructured — this is typically known as **_preprocessing._**\n",
    "\n",
    "Fortunately, for this dataset, there are no invalid or missing entries I have to deal with, however, there are some qualities about certain features that must be adjusted. This preprocessing can help tremendously with the outcome and predictive power of nearly all learning algorithms.\n",
    "\n",
    "### Transforming Skewed Continuous Features\n",
    "A dataset may sometimes contain at least one feature whose values tend to lie near a single number, but will also have a non-trivial number of vastly larger or smaller values than that single number. \n",
    "\n",
    "Algorithms can be sensitive to such distributions of values and can underperform if the range is not properly **_normalized._** With the census dataset two features fit this description: 'capital-gain' and 'capital-loss'.\n",
    "\n",
    "Looking at the below, note the range of the values present and how they are distributed."
   ]
  },
  {
   "cell_type": "code",
   "execution_count": 9,
   "metadata": {},
   "outputs": [],
   "source": [
    "#Creating a function to plot distributitions to visualise skewness\n",
    "#before transformation and AFTER transformation\n",
    "\n",
    "def distribution(data, transformed = False):\n",
    "    \"\"\"\n",
    "    Visualization code for displaying skewed distributions of features\n",
    "    \"\"\"\n",
    "    \n",
    "    # Create figure\n",
    "    fig = plt.figure(figsize = (11,5));\n",
    "\n",
    "    # Skewed feature plotting\n",
    "    for i, feature in enumerate(['capital-gain','capital-loss']):\n",
    "        ax = fig.add_subplot(1, 2, i+1)\n",
    "        ax.hist(data[feature], bins = 25, color = '#00A0A0')\n",
    "        ax.set_title(\"'%s' Feature Distribution\"%(feature), fontsize = 14)\n",
    "        ax.set_xlabel(\"Value\")\n",
    "        ax.set_ylabel(\"Number of Records\")\n",
    "        ax.set_ylim((0, 2000))\n",
    "        ax.set_yticks([0, 500, 1000, 1500, 2000])\n",
    "        ax.set_yticklabels([0, 500, 1000, 1500, \">2000\"])\n",
    "\n",
    "    # Plot aesthetics\n",
    "    if transformed:\n",
    "        fig.suptitle(\"Log-transformed Distributions of Continuous Census Data Features\", \\\n",
    "            fontsize = 16, y = 1.03)\n",
    "    else:\n",
    "        fig.suptitle(\"Skewed Distributions of Continuous Census Data Features\", \\\n",
    "            fontsize = 16, y = 1.03)\n",
    "\n",
    "    fig.tight_layout()\n",
    "    fig.show()"
   ]
  },
  {
   "cell_type": "code",
   "execution_count": 10,
   "metadata": {},
   "outputs": [
    {
     "name": "stderr",
     "output_type": "stream",
     "text": [
      "C:\\Users\\William X Nguyen\\Anaconda3\\lib\\site-packages\\matplotlib\\figure.py:459: UserWarning: matplotlib is currently using a non-GUI backend, so cannot show the figure\n",
      "  \"matplotlib is currently using a non-GUI backend, \"\n"
     ]
    },
    {
     "data": {
      "image/png": "[encoded data removed]",
      "text/plain": [
       "<Figure size 792x360 with 2 Axes>"
      ]
     },
     "metadata": {},
     "output_type": "display_data"
    }
   ],
   "source": [
    "#Splitting data into features and target variable\n",
    "income = df['income'] #Target variable\n",
    "features = df.drop(['income'],axis=1)\n",
    "\n",
    "#Visualising skewness continuous features of original data before\n",
    "#any transformation has been done\n",
    "distribution(features,transformed=False)"
   ]
  },
  {
   "cell_type": "markdown",
   "metadata": {},
   "source": [
    "For highly-skewed feature distributions such as `capital-gain` and `capital-loss`, it is common practice to apply a **_logarithm transformation_** on the data so that very large and very small values don't negatively affect the performance of a learning algorithm.\n",
    "\n",
    "Using a logarithm transformation significantly reduces the range of values caused by outliers. Care must be taken when applying logarithm transformation: The logarithm of `0` is undefined, so I might translate the values by a small amount ABOVE 0 to apply the logarithm successfully. "
   ]
  },
  {
   "cell_type": "code",
   "execution_count": 7,
   "metadata": {},
   "outputs": [
    {
     "name": "stderr",
     "output_type": "stream",
     "text": [
      "C:\\Users\\William X Nguyen\\Anaconda3\\lib\\site-packages\\matplotlib\\figure.py:459: UserWarning: matplotlib is currently using a non-GUI backend, so cannot show the figure\n",
      "  \"matplotlib is currently using a non-GUI backend, \"\n"
     ]
    },
    {
     "data": {
      "image/png": "[encoded data removed]",
      "text/plain": [
       "<Figure size 792x360 with 2 Axes>"
      ]
     },
     "metadata": {},
     "output_type": "display_data"
    }
   ],
   "source": [
    "#Log-transformation of the skewed features\n",
    "skewed = ['capital-gain','capital-loss']\n",
    "features_log_transformed = pd.DataFrame(data=features)\n",
    "features_log_transformed[skewed] = features[skewed].apply(lambda x: np.log(x+1))\n",
    "\n",
    "#Visualising log distributions\n",
    "distribution(features_log_transformed,transformed=True)\n"
   ]
  },
  {
   "cell_type": "markdown",
   "metadata": {},
   "source": [
    "### Normalizing Numerical Features\n",
    "\n",
    "In addition to performing **log transformations** on features that are highly skewed, it is often good practice to perform some type of _scaling on numerical features._ Applying a scaling to the data does not change the shape of each feature's distribution (such as 'capital-gain' or 'capital-loss' above); however, normalization ensures that each **_feature is treated equally when applying supervised learners._** \n",
    "\n",
    "**Note:** That once scaling is applied, observing the data in its raw form will no longer have the same original meaning, as exampled below."
   ]
  },
  {
   "cell_type": "code",
   "execution_count": 8,
   "metadata": {},
   "outputs": [
    {
     "data": {
      "text/html": [
       "<div>\n",
       "<style scoped>\n",
       "    .dataframe tbody tr th:only-of-type {\n",
       "        vertical-align: middle;\n",
       "    }\n",
       "\n",
       "    .dataframe tbody tr th {\n",
       "        vertical-align: top;\n",
       "    }\n",
       "\n",
       "    .dataframe thead th {\n",
       "        text-align: right;\n",
       "    }\n",
       "</style>\n",
       "<table border=\"1\" class=\"dataframe\">\n",
       "  <thead>\n",
       "    <tr style=\"text-align: right;\">\n",
       "      <th></th>\n",
       "      <th>age</th>\n",
       "      <th>education-num</th>\n",
       "      <th>capital-gain</th>\n",
       "      <th>capital-loss</th>\n",
       "      <th>hours-per-week</th>\n",
       "    </tr>\n",
       "  </thead>\n",
       "  <tbody>\n",
       "    <tr>\n",
       "      <th>0</th>\n",
       "      <td>39</td>\n",
       "      <td>13.0</td>\n",
       "      <td>7.684784</td>\n",
       "      <td>0.0</td>\n",
       "      <td>40.0</td>\n",
       "    </tr>\n",
       "    <tr>\n",
       "      <th>1</th>\n",
       "      <td>50</td>\n",
       "      <td>13.0</td>\n",
       "      <td>0.000000</td>\n",
       "      <td>0.0</td>\n",
       "      <td>13.0</td>\n",
       "    </tr>\n",
       "    <tr>\n",
       "      <th>2</th>\n",
       "      <td>38</td>\n",
       "      <td>9.0</td>\n",
       "      <td>0.000000</td>\n",
       "      <td>0.0</td>\n",
       "      <td>40.0</td>\n",
       "    </tr>\n",
       "    <tr>\n",
       "      <th>3</th>\n",
       "      <td>53</td>\n",
       "      <td>7.0</td>\n",
       "      <td>0.000000</td>\n",
       "      <td>0.0</td>\n",
       "      <td>40.0</td>\n",
       "    </tr>\n",
       "    <tr>\n",
       "      <th>4</th>\n",
       "      <td>28</td>\n",
       "      <td>13.0</td>\n",
       "      <td>0.000000</td>\n",
       "      <td>0.0</td>\n",
       "      <td>40.0</td>\n",
       "    </tr>\n",
       "  </tbody>\n",
       "</table>\n",
       "</div>"
      ],
      "text/plain": [
       "   age  education-num  capital-gain  capital-loss  hours-per-week\n",
       "0   39           13.0      7.684784           0.0            40.0\n",
       "1   50           13.0      0.000000           0.0            13.0\n",
       "2   38            9.0      0.000000           0.0            40.0\n",
       "3   53            7.0      0.000000           0.0            40.0\n",
       "4   28           13.0      0.000000           0.0            40.0"
      ]
     },
     "execution_count": 8,
     "metadata": {},
     "output_type": "execute_result"
    }
   ],
   "source": [
    "#Importing StandardScaler\n",
    "from sklearn.preprocessing import MinMaxScaler\n",
    "\n",
    "#Initalize a scaler and applying this scaler to numerical features\n",
    "scaler = MinMaxScaler()\n",
    "numerical_features = ['age','education-num','capital-gain',\n",
    "             'capital-loss','hours-per-week']\n",
    "\n",
    "#Creating data frame with log-transformed features\n",
    "features_log_minmax_transform = pd.DataFrame(data=features_log_transformed)\n",
    "features_log_minmax_transform[numerical_features].head()"
   ]
  },
  {
   "cell_type": "code",
   "execution_count": 11,
   "metadata": {},
   "outputs": [],
   "source": [
    "#Fitting the scaler to log-transformed numerical features\n",
    "features_log_minmax_transform[numerical_features] = scaler.fit_transform(features_log_transformed[numerical_features])"
   ]
  },
  {
   "cell_type": "code",
   "execution_count": 12,
   "metadata": {},
   "outputs": [
    {
     "data": {
      "text/html": [
       "<div>\n",
       "<style scoped>\n",
       "    .dataframe tbody tr th:only-of-type {\n",
       "        vertical-align: middle;\n",
       "    }\n",
       "\n",
       "    .dataframe tbody tr th {\n",
       "        vertical-align: top;\n",
       "    }\n",
       "\n",
       "    .dataframe thead th {\n",
       "        text-align: right;\n",
       "    }\n",
       "</style>\n",
       "<table border=\"1\" class=\"dataframe\">\n",
       "  <thead>\n",
       "    <tr style=\"text-align: right;\">\n",
       "      <th></th>\n",
       "      <th>age</th>\n",
       "      <th>education-num</th>\n",
       "      <th>capital-gain</th>\n",
       "      <th>capital-loss</th>\n",
       "      <th>hours-per-week</th>\n",
       "    </tr>\n",
       "  </thead>\n",
       "  <tbody>\n",
       "    <tr>\n",
       "      <th>0</th>\n",
       "      <td>0.301370</td>\n",
       "      <td>0.800000</td>\n",
       "      <td>0.667492</td>\n",
       "      <td>0.0</td>\n",
       "      <td>0.397959</td>\n",
       "    </tr>\n",
       "    <tr>\n",
       "      <th>1</th>\n",
       "      <td>0.452055</td>\n",
       "      <td>0.800000</td>\n",
       "      <td>0.000000</td>\n",
       "      <td>0.0</td>\n",
       "      <td>0.122449</td>\n",
       "    </tr>\n",
       "    <tr>\n",
       "      <th>2</th>\n",
       "      <td>0.287671</td>\n",
       "      <td>0.533333</td>\n",
       "      <td>0.000000</td>\n",
       "      <td>0.0</td>\n",
       "      <td>0.397959</td>\n",
       "    </tr>\n",
       "    <tr>\n",
       "      <th>3</th>\n",
       "      <td>0.493151</td>\n",
       "      <td>0.400000</td>\n",
       "      <td>0.000000</td>\n",
       "      <td>0.0</td>\n",
       "      <td>0.397959</td>\n",
       "    </tr>\n",
       "    <tr>\n",
       "      <th>4</th>\n",
       "      <td>0.150685</td>\n",
       "      <td>0.800000</td>\n",
       "      <td>0.000000</td>\n",
       "      <td>0.0</td>\n",
       "      <td>0.397959</td>\n",
       "    </tr>\n",
       "    <tr>\n",
       "      <th>5</th>\n",
       "      <td>0.273973</td>\n",
       "      <td>0.866667</td>\n",
       "      <td>0.000000</td>\n",
       "      <td>0.0</td>\n",
       "      <td>0.397959</td>\n",
       "    </tr>\n",
       "    <tr>\n",
       "      <th>6</th>\n",
       "      <td>0.438356</td>\n",
       "      <td>0.266667</td>\n",
       "      <td>0.000000</td>\n",
       "      <td>0.0</td>\n",
       "      <td>0.153061</td>\n",
       "    </tr>\n",
       "    <tr>\n",
       "      <th>7</th>\n",
       "      <td>0.479452</td>\n",
       "      <td>0.533333</td>\n",
       "      <td>0.000000</td>\n",
       "      <td>0.0</td>\n",
       "      <td>0.448980</td>\n",
       "    </tr>\n",
       "    <tr>\n",
       "      <th>8</th>\n",
       "      <td>0.191781</td>\n",
       "      <td>0.866667</td>\n",
       "      <td>0.829751</td>\n",
       "      <td>0.0</td>\n",
       "      <td>0.500000</td>\n",
       "    </tr>\n",
       "    <tr>\n",
       "      <th>9</th>\n",
       "      <td>0.342466</td>\n",
       "      <td>0.800000</td>\n",
       "      <td>0.742849</td>\n",
       "      <td>0.0</td>\n",
       "      <td>0.397959</td>\n",
       "    </tr>\n",
       "  </tbody>\n",
       "</table>\n",
       "</div>"
      ],
      "text/plain": [
       "        age  education-num  capital-gain  capital-loss  hours-per-week\n",
       "0  0.301370       0.800000      0.667492           0.0        0.397959\n",
       "1  0.452055       0.800000      0.000000           0.0        0.122449\n",
       "2  0.287671       0.533333      0.000000           0.0        0.397959\n",
       "3  0.493151       0.400000      0.000000           0.0        0.397959\n",
       "4  0.150685       0.800000      0.000000           0.0        0.397959\n",
       "5  0.273973       0.866667      0.000000           0.0        0.397959\n",
       "6  0.438356       0.266667      0.000000           0.0        0.153061\n",
       "7  0.479452       0.533333      0.000000           0.0        0.448980\n",
       "8  0.191781       0.866667      0.829751           0.0        0.500000\n",
       "9  0.342466       0.800000      0.742849           0.0        0.397959"
      ]
     },
     "execution_count": 12,
     "metadata": {},
     "output_type": "execute_result"
    }
   ],
   "source": [
    "#Looking at how scaling was applied \n",
    "features_log_minmax_transform[numerical_features].head(n=10)"
   ]
  },
  {
   "cell_type": "code",
   "execution_count": 13,
   "metadata": {},
   "outputs": [
    {
     "data": {
      "text/html": [
       "<div>\n",
       "<style scoped>\n",
       "    .dataframe tbody tr th:only-of-type {\n",
       "        vertical-align: middle;\n",
       "    }\n",
       "\n",
       "    .dataframe tbody tr th {\n",
       "        vertical-align: top;\n",
       "    }\n",
       "\n",
       "    .dataframe thead th {\n",
       "        text-align: right;\n",
       "    }\n",
       "</style>\n",
       "<table border=\"1\" class=\"dataframe\">\n",
       "  <thead>\n",
       "    <tr style=\"text-align: right;\">\n",
       "      <th></th>\n",
       "      <th>age</th>\n",
       "      <th>workclass</th>\n",
       "      <th>education_level</th>\n",
       "      <th>education-num</th>\n",
       "      <th>marital-status</th>\n",
       "      <th>occupation</th>\n",
       "      <th>relationship</th>\n",
       "      <th>race</th>\n",
       "      <th>sex</th>\n",
       "      <th>capital-gain</th>\n",
       "      <th>capital-loss</th>\n",
       "      <th>hours-per-week</th>\n",
       "      <th>native-country</th>\n",
       "    </tr>\n",
       "  </thead>\n",
       "  <tbody>\n",
       "    <tr>\n",
       "      <th>0</th>\n",
       "      <td>0.301370</td>\n",
       "      <td>State-gov</td>\n",
       "      <td>Bachelors</td>\n",
       "      <td>0.800000</td>\n",
       "      <td>Never-married</td>\n",
       "      <td>Adm-clerical</td>\n",
       "      <td>Not-in-family</td>\n",
       "      <td>White</td>\n",
       "      <td>Male</td>\n",
       "      <td>0.667492</td>\n",
       "      <td>0.0</td>\n",
       "      <td>0.397959</td>\n",
       "      <td>United-States</td>\n",
       "    </tr>\n",
       "    <tr>\n",
       "      <th>1</th>\n",
       "      <td>0.452055</td>\n",
       "      <td>Self-emp-not-inc</td>\n",
       "      <td>Bachelors</td>\n",
       "      <td>0.800000</td>\n",
       "      <td>Married-civ-spouse</td>\n",
       "      <td>Exec-managerial</td>\n",
       "      <td>Husband</td>\n",
       "      <td>White</td>\n",
       "      <td>Male</td>\n",
       "      <td>0.000000</td>\n",
       "      <td>0.0</td>\n",
       "      <td>0.122449</td>\n",
       "      <td>United-States</td>\n",
       "    </tr>\n",
       "    <tr>\n",
       "      <th>2</th>\n",
       "      <td>0.287671</td>\n",
       "      <td>Private</td>\n",
       "      <td>HS-grad</td>\n",
       "      <td>0.533333</td>\n",
       "      <td>Divorced</td>\n",
       "      <td>Handlers-cleaners</td>\n",
       "      <td>Not-in-family</td>\n",
       "      <td>White</td>\n",
       "      <td>Male</td>\n",
       "      <td>0.000000</td>\n",
       "      <td>0.0</td>\n",
       "      <td>0.397959</td>\n",
       "      <td>United-States</td>\n",
       "    </tr>\n",
       "    <tr>\n",
       "      <th>3</th>\n",
       "      <td>0.493151</td>\n",
       "      <td>Private</td>\n",
       "      <td>11th</td>\n",
       "      <td>0.400000</td>\n",
       "      <td>Married-civ-spouse</td>\n",
       "      <td>Handlers-cleaners</td>\n",
       "      <td>Husband</td>\n",
       "      <td>Black</td>\n",
       "      <td>Male</td>\n",
       "      <td>0.000000</td>\n",
       "      <td>0.0</td>\n",
       "      <td>0.397959</td>\n",
       "      <td>United-States</td>\n",
       "    </tr>\n",
       "    <tr>\n",
       "      <th>4</th>\n",
       "      <td>0.150685</td>\n",
       "      <td>Private</td>\n",
       "      <td>Bachelors</td>\n",
       "      <td>0.800000</td>\n",
       "      <td>Married-civ-spouse</td>\n",
       "      <td>Prof-specialty</td>\n",
       "      <td>Wife</td>\n",
       "      <td>Black</td>\n",
       "      <td>Female</td>\n",
       "      <td>0.000000</td>\n",
       "      <td>0.0</td>\n",
       "      <td>0.397959</td>\n",
       "      <td>Cuba</td>\n",
       "    </tr>\n",
       "  </tbody>\n",
       "</table>\n",
       "</div>"
      ],
      "text/plain": [
       "        age          workclass education_level  education-num  \\\n",
       "0  0.301370          State-gov       Bachelors       0.800000   \n",
       "1  0.452055   Self-emp-not-inc       Bachelors       0.800000   \n",
       "2  0.287671            Private         HS-grad       0.533333   \n",
       "3  0.493151            Private            11th       0.400000   \n",
       "4  0.150685            Private       Bachelors       0.800000   \n",
       "\n",
       "        marital-status          occupation    relationship    race      sex  \\\n",
       "0        Never-married        Adm-clerical   Not-in-family   White     Male   \n",
       "1   Married-civ-spouse     Exec-managerial         Husband   White     Male   \n",
       "2             Divorced   Handlers-cleaners   Not-in-family   White     Male   \n",
       "3   Married-civ-spouse   Handlers-cleaners         Husband   Black     Male   \n",
       "4   Married-civ-spouse      Prof-specialty            Wife   Black   Female   \n",
       "\n",
       "   capital-gain  capital-loss  hours-per-week  native-country  \n",
       "0      0.667492           0.0        0.397959   United-States  \n",
       "1      0.000000           0.0        0.122449   United-States  \n",
       "2      0.000000           0.0        0.397959   United-States  \n",
       "3      0.000000           0.0        0.397959   United-States  \n",
       "4      0.000000           0.0        0.397959            Cuba  "
      ]
     },
     "execution_count": 13,
     "metadata": {},
     "output_type": "execute_result"
    }
   ],
   "source": [
    "#Looking at the whole dataset\n",
    "features_log_minmax_transform.head()"
   ]
  },
  {
   "cell_type": "markdown",
   "metadata": {},
   "source": [
    "### Data Preprocessing \n",
    "\n",
    "There are several features that are non-numeric. Typically, algorithms expect input to be **numeric**, which requires that non-features features (_categorical variables_) to be converted. \n",
    "\n",
    "One way to convert categorical variables is by using the **one-hot encoding** scheme:\n",
    "- One-Hot encoding creates a \"_dummy_\" variable for each possible category of each non-numeric feature. \n",
    "- For example, a feature `someFeature` has three possible unique values `A,B or C`. One-Hot encoding encodes this feature into `someFeature_A`, `someFeature_B`, `someFeature_C`\n",
    "\n",
    "Additionally, along with the non-numeric independent variables, need to convert the non-numeric target variable, `income` to numerical values for the learning algorithms to work. \n",
    "- Since, there are only two values for this label (\"<=50k\" and \">50k\"), I won't use one-hot encoding and simply encode these two categories as 0 and 1. "
   ]
  },
  {
   "cell_type": "code",
   "execution_count": 15,
   "metadata": {},
   "outputs": [
    {
     "name": "stdout",
     "output_type": "stream",
     "text": [
      "103 total features after one-hot encoding.\n"
     ]
    }
   ],
   "source": [
    "#One-hot encoding the 'features_log_minmax_transform' data \n",
    "features_final = pd.get_dummies(features_log_minmax_transform)\n",
    "\n",
    "#Encoding the target variable 'income' to numerical 0 and 1 values\n",
    "income = income.apply(lambda x: 1 if x == \">50K\" else 0)\n",
    "\n",
    "#The number of columns after one-hot encoding \n",
    "encoded = (features_final.columns.tolist())\n",
    "print(\"{} total features after one-hot encoding.\".format(len(encoded)))"
   ]
  },
  {
   "cell_type": "markdown",
   "metadata": {},
   "source": [
    "#### Splitting Data\n",
    "Now that all categorical variables have been converted into numerical features, and all numerical features have been normalized -- the data for features and their labels are now split into training and test sets. 80% of the data will be used for training and 20% for testing. "
   ]
  },
  {
   "cell_type": "code",
   "execution_count": 16,
   "metadata": {},
   "outputs": [
    {
     "name": "stdout",
     "output_type": "stream",
     "text": [
      "Training set has 36177 samples.\n",
      "Testing set has 9045 samples\n"
     ]
    }
   ],
   "source": [
    "from sklearn.model_selection import train_test_split\n",
    "\n",
    "#Splitting into train and testing set using X and y set (features and target)\n",
    "X_train, X_test, y_train, y_test = train_test_split(features_final,\n",
    "                                                   income, test_size=0.2,\n",
    "                                                   random_state=0)\n",
    "\n",
    "#Showing results of split \n",
    "print(\"Training set has {} samples.\".format(X_train.shape[0]))\n",
    "print(\"Testing set has {} samples\".format(y_test.shape[0]))"
   ]
  },
  {
   "cell_type": "markdown",
   "metadata": {},
   "source": [
    "## Evaluating Model Performance\n",
    "I investigated different algorithms to determine which is best at modelling the data. Three of these algorithms will be supervised learners and the last algorithm will be a naive predictor. \n",
    "\n",
    "### Metrics and the Naive Predictor\n",
    "I know that individuals that make more $50,000 are more likely to donate to charity. \n",
    "\n",
    "Thus, I'm interested in predicting **who** makes more than $50,000 accurately. Thus, I will use **accuracy** as a metric for evaluating the model's performance (more appropriate). \n",
    "\n",
    "**Note:** Identifying someone who doesn't make more than $50,000 as someone who does would be detrimental to the charity (penalty), as I'm looking for individuals who will donate. \n",
    "\n",
    "Thus, a model's ability to precisely predict those that make more than $50,000 is more _important_ than the model's ability to recall those individuals. I will use **F-beta score** as a metric that considers both precision and recall.\n",
    "\n",
    "**Note:** Looking at the distribution of classes (those who make less than \\$50,000 each year and those who make more), I can clearly see that most individuals do not make more than \\$50,000 a year. \n",
    "- This can greatly affect **accuracy**, since I could say a person doesn't make more than $50,000 and generally be right without ever looking at the data.\n",
    "- This is a **_naive_** statement, since I do not have any information to substantiate the claim. \n",
    "- Thus, it's important for me to consider the _naive prediction_ for my data. Why? **To help establish a benchmark for whether a model is performing well.**\n",
    "\n",
    "### Metrics \n",
    "**Accuracy** measures _how often the classifier makes the correct prediction_. It is the ratio of the number of correct predictions to the total number of predictions (number of test data points). \n",
    "\n",
    "**Precision**. I don't know how to explain this well but I will explain this in terms of an example:\n",
    "- Precision is the proportion of messages I classified (predicted) as spam, actually were spam. It is the ratio of true positives (classified as spam, and which are actually spam) to all positives (all words classified as spam, irrespective of whether that was the correct classification). \n",
    "- `True Positives/(True Positives + False Positives)`\n",
    "\n",
    "**Recall (Sensitivity)**:\n",
    "- Example: The proportion that actually were spam were classified by myself as spam. It is the ratio of true positives (words classified as spam, and which are actually spam) to all the words that were actually spam.\n",
    "- `True Positives/(True Positives + False Negatives)`\n",
    "\n",
    "### Important Notes\n",
    "For classification problems that are skewed in the distributions like in this case, for e.g.:\n",
    "- If I had 100 text messages and only 2 were spam and the rest 98 aren't, accuracy by itself is not very a good metric. \n",
    "\n",
    "I could classify 90 messages as not spam (including the 2 that were spam, but I classified them as not spam, hence they are false negatives) and 10 as spam (all 10 false positives) and still get a reasonably good accuracy score. \n",
    "- For such cases, precision and recall come in very handy. \n",
    "- These two metrics can combined to get the F1 score, which is the _weighted average (harmonic mean)_ of the precision and recall scores. \n",
    "- This score can range from 0 to 1, with 1 being the best possible F1 score. \n",
    "\n",
    "### Example Case: Naive Predictor Performance\n",
    "\n",
    "If I had a model that always predicts '1' -- _always predicted an individual making more than \\$50,000 (1), then my model will have no True Negatives (TN) or False Negatives (FN) as I'm not making any \\$50,000 any negative ('0' value) predictions._ \n",
    "- Thus, the accuracy in this case becomes the same as the _Precision = True Positives/(True Positives + False Positives) as every prediction that I have made with value '1' that should have '0' becomes False Positive.\n",
    "- The Recall Score (True Positives/(True Positives + False Negatives)) in this setting becomes 1 as I have no False Negatives. "
   ]
  },
  {
   "cell_type": "code",
   "execution_count": 16,
   "metadata": {},
   "outputs": [
    {
     "name": "stdout",
     "output_type": "stream",
     "text": [
      "The Naive Predictor: [Accuracy Score: 0.2478, F-score: 0.2917]\n"
     ]
    }
   ],
   "source": [
    "'''\n",
    "#Counting the ones as this is the naive case\n",
    "#\"Income\" column encoded to numerical values done in the pre-processing step\n",
    "TP = np.sum(income)\n",
    "\n",
    "FP = income.count() - TP #Specific to the naive case\n",
    "\n",
    "TN = 0 #No predicted negatives in the naive case \n",
    "FN = 0 \n",
    "'''\n",
    "\n",
    "#If Income >50K --> income =1 ELSE --> income=0\n",
    "TP = income.sum()\n",
    "FP = len(income) - TP\n",
    "TN = 0\n",
    "FN = 0\n",
    "\n",
    "#Calculate accuracy, precision and recall \n",
    "accuracy = TP/n_records \n",
    "recall = TP/(TP+FN)\n",
    "precision = TP/(TP+FP)\n",
    "\n",
    "#Calculating F-score using formula above for beta=0.5 and correct values for precision and recall\n",
    "beta=0.5\n",
    "fscore = (1+beta**2) * precision * recall/ ((beta**2 * precision) + recall)\n",
    "\n",
    "#Print the results\n",
    "print(\"The Naive Predictor: [Accuracy Score: {:.4f}, F-score: {:.4f}]\".format(accuracy,fscore))"
   ]
  },
  {
   "cell_type": "markdown",
   "metadata": {},
   "source": [
    "## Supervised Learning Models \n",
    "**The following are some of the supervised learning models that are currently available in `scikit-learn`:**\n",
    "- Gaussian Naive Bayes (GaussianNB)\n",
    "- Decision Trees\n",
    "- Ensemble Methods (Bagging, AdaBoost, Random Forest, Gradient Boosting)\n",
    "- K-Nearest Neighbors (KNeighbors)\n",
    "- Stochastic Gradient Descent Classifier (SGDC)\n",
    "- Support Vector Machines (SVM)\n",
    "- Logistic Regression "
   ]
  },
  {
   "cell_type": "markdown",
   "metadata": {},
   "source": [
    "### Model Application\n",
    "\n",
    "#### Gaussian Naive Bayes \n",
    "A common area of application for Gaussian Naive Bayes is text classification. For example, if it can be used to classify emails as spam/non-spam. \n",
    "\n",
    "It could be a good candidate to solving the problem as the dataset has a lot of features after the one-hot encoding step -- **_Gaussian Naive Bayes is probably the fastest algorithm among the given ones_**.\n",
    "\n",
    "**Strengths**:\n",
    "- Gaussian Naive Bayes can deal with small training sets that have many features (e.g. text classification). \n",
    "The resulting model is very simple and can be trained _quickly_. It can deal well with datasets that have many features (high-dimensional datasets) due to its independence assumption. \n",
    "\n",
    "**Weaknesses**:\n",
    "- Gaussian Naive Bayes does not work well if the training data are incomplete.\n",
    "- Given the Naive-Bayes conditional independence assumption, when all the probabilities are multiplied together -- I will get 0.\n",
    "- This will affect the posterior probability estimate. \n",
    "- Additionally, strongly correlating features might become an issue since Naive Bayes assumes independence of features. \n",
    "- It also cannot learn interactions between features (e.g. it can't learn that although I love specific action movies with Tom Cruise, it can't learn that I hate movies when there is Tom Cruise). \n",
    "\n",
    "#### Support Vector Machine \n",
    "SVM have a number of applications in several fields. Since the problem is a two-class problem, SVMs can be a good approach to solving this problem. By transforming into a higher dimensional space, I might be able to classify the data. \n",
    "\n",
    "**Strengths:**\n",
    "- SVM can transform features in a higher dimensional space and finds a hyperplane in this space that separates the data points. \n",
    "- This the reason why SVM is able to solve problems that might not look linearly separable. \n",
    "\n",
    "**Weaknesses:**\n",
    "- Fitting the model can take a long time depending on how you choose the _kernel parameters_. \n",
    "- Furthermore, picking the right kernel and its parameters is often _quite hard_. \n",
    "- In a way, the SVM moves the problem of overfitting from optimising the parameters to model selection. \n",
    "- More \"complex\" kernels (higher degree polynomials) are sensitive to overfitting. \n",
    "- Furthermore, SVM are binary classifiers. Solving a multi-class problem requires the training of multiple classifiers which takes a _long time_.\n",
    "\n",
    "#### Gradient Boosting (Ensemble Method)\n",
    "Ensemble learning methods helps improve machine learning results by combining several models. \n",
    "- Decision Tree based methods are fast to train. \n",
    "- However, a single decision tree is often not enough to classify the data accurately. \n",
    "- Combining multiple decision trees will improve the result (Random Forests, Gradient Boosting). \n",
    "- Since Gradient Boosting is superior to Random Forests (when picking the right parameters) most of the time, thus I will choose **Gradient Boosting.**\n",
    "\n",
    "**Strengths:**\n",
    "- GB-Trees have a better accuracy than Random Forests\n",
    "\n",
    "**Weaknesses:**\n",
    "- Prone to overfitting.\n",
    "- Requires careful tuning of different hyper-parameters. \n",
    "- Regression: It might not be robust to outliers depending on the selected loss function (e.g. squared error). "
   ]
  },
  {
   "cell_type": "markdown",
   "metadata": {},
   "source": [
    "## Creating a Training and Predicting Pipeline\n",
    "\n",
    "To properly evaluate the performance of each model, I've created a training and predicting test set to quickly and effectively train models."
   ]
  },
  {
   "cell_type": "markdown",
   "metadata": {},
   "source": [
    "## Implementation: Initial Model Evaluation\n",
    "- Import three learning models \n",
    "- Initialize the 3 models and store them in 3 different variables \n",
    "- using random state for each model \n",
    "- calculate number of records equal to 1%, 10% and 100% of the training data. --> sample samples_1"
   ]
  },
  {
   "cell_type": "code",
   "execution_count": 48,
   "metadata": {},
   "outputs": [
    {
     "name": "stdout",
     "output_type": "stream",
     "text": [
      "GaussianNB trained on 361 samples.\n",
      "GaussianNB trained on 3617 samples.\n",
      "GaussianNB trained on 36177 samples.\n"
     ]
    },
    {
     "name": "stderr",
     "output_type": "stream",
     "text": [
      "C:\\Users\\William X Nguyen\\Anaconda3\\lib\\site-packages\\sklearn\\metrics\\classification.py:1135: UndefinedMetricWarning: F-score is ill-defined and being set to 0.0 due to no predicted samples.\n",
      "  'precision', 'predicted', average, warn_for)\n",
      "C:\\Users\\William X Nguyen\\Anaconda3\\lib\\site-packages\\sklearn\\metrics\\classification.py:1135: UndefinedMetricWarning: F-score is ill-defined and being set to 0.0 due to no predicted samples.\n",
      "  'precision', 'predicted', average, warn_for)\n"
     ]
    },
    {
     "name": "stdout",
     "output_type": "stream",
     "text": [
      "SVC trained on 361 samples.\n",
      "SVC trained on 3617 samples.\n",
      "SVC trained on 36177 samples.\n",
      "GradientBoostingClassifier trained on 361 samples.\n",
      "GradientBoostingClassifier trained on 3617 samples.\n",
      "GradientBoostingClassifier trained on 36177 samples.\n"
     ]
    }
   ],
   "source": [
    "# Import two metrics from sklearn - fbeta_score and accuracy_score\n",
    "from sklearn.metrics import accuracy_score\n",
    "from sklearn.metrics import fbeta_score\n",
    "\n",
    "def train_predict(learner, sample_size, X_train, y_train, X_test, y_test): \n",
    "    '''\n",
    "    inputs:\n",
    "       - learner: the learning algorithm to be trained and predicted on\n",
    "       - sample_size: the size of samples (number) to be drawn from training set\n",
    "       - X_train: features training set\n",
    "       - y_train: income training set\n",
    "       - X_test: features testing set\n",
    "       - y_test: income testing set\n",
    "    '''\n",
    "    \n",
    "    results = {}\n",
    "    \n",
    "    # Fit the learner to the training data using slicing with 'sample_size' using .fit(training_features[:], training_labels[:])\n",
    "    start = time() # Get start time\n",
    "    learner.fit(X_train[:sample_size], y_train[:sample_size])\n",
    "    end = time() # Get end time\n",
    "    \n",
    "    # Calculate the training time\n",
    "    results['train_time'] = end - start\n",
    "        \n",
    "    # Get the predictions on the test set(X_test),\n",
    "    #       then get predictions on the first 300 training samples(X_train) using .predict()\n",
    "    start = time() # Get start time\n",
    "    predictions_test = learner.predict(X_test)\n",
    "    predictions_train = learner.predict(X_train[:300])\n",
    "    end = time() # Get end time\n",
    "    \n",
    "    # Calculate the total prediction time\n",
    "    results['pred_time'] = end - start\n",
    "            \n",
    "    # Compute accuracy on the first 300 training samples which is y_train[:300]\n",
    "    results['acc_train'] = accuracy_score(y_train[:300], predictions_train)\n",
    "        \n",
    "    # Compute accuracy on test set using accuracy_score()\n",
    "    results['acc_test'] = accuracy_score(y_test, predictions_test)\n",
    "    \n",
    "    # Compute F-score on the the first 300 training samples using fbeta_score()\n",
    "    results['f_train'] = fbeta_score(y_train[:300], predictions_train, 0.5)\n",
    "        \n",
    "    # Compute F-score on the test set which is y_test\n",
    "    results['f_test'] = fbeta_score(y_test, predictions_test, 0.5)\n",
    "       \n",
    "    # Success\n",
    "    print(\"{} trained on {} samples.\".format(learner.__class__.__name__, sample_size))\n",
    "        \n",
    "    # Return the results\n",
    "    return results\n",
    "\n",
    "# Import the three supervised learning models from sklearn\n",
    "from sklearn.tree import DecisionTreeClassifier\n",
    "from sklearn.svm import SVC\n",
    "from sklearn.naive_bayes import GaussianNB\n",
    "from sklearn.ensemble import AdaBoostClassifier\n",
    "from sklearn.ensemble import RandomForestClassifier\n",
    "from sklearn.ensemble import GradientBoostingClassifier\n",
    "\n",
    "# Initialize the models\n",
    "clf_A = GaussianNB()\n",
    "clf_B = SVC(random_state=0)\n",
    "clf_C = GradientBoostingClassifier(random_state=0)\n",
    "\n",
    "# Calculate the number of samples for 1%, 10%, and 100% of the training data\n",
    "# HINT: samples_100 is the entire training set i.e. len(y_train)\n",
    "# HINT: samples_10 is 10% of samples_100 (ensure to set the count of the values to be `int` and not `float`)\n",
    "# HINT: samples_1 is 1% of samples_100 (ensure to set the count of the values to be `int` and not `float`)\n",
    "samples_100 = len(y_train)\n",
    "samples_10 = len(y_train)//10\n",
    "samples_1 = len(y_train)//100\n",
    "\n",
    "# Collect results on the learners\n",
    "results = {}\n",
    "for clf in [clf_A, clf_B, clf_C]:\n",
    "    clf_name = clf.__class__.__name__\n",
    "    results[clf_name] = {}\n",
    "    for i, samples in enumerate([samples_1, samples_10, samples_100]):\n",
    "        results[clf_name][i] = \\\n",
    "        train_predict(clf, samples, X_train, y_train, X_test, y_test)\n",
    "        "
   ]
  },
  {
   "cell_type": "markdown",
   "metadata": {},
   "source": [
    "## Improving Results \n",
    "With the supervised learning models, to perform a grid search optimization for the model over the entire training set by tuning at least one parameter to improve upon the untuned model's F-score. \n",
    "\n",
    "### Choosing the Best Model\n",
    "To choose a model, I will based this on:\n",
    "- metrics - F-score on the testing set when 100% of the training data isused. \n",
    "- prediction/training time \n",
    "- the algorithm's suitability for the data\n",
    "\n",
    "It seems that the best method to solve this problem is the **Gradient Boosting Classifier**. Besides the fact that the model achieves the best accuracy and f-score, it also can be trained in a reasonable amount of time. Thus, due to it's fast training, I will be able to fully utilize the entire dataset and therefore maximize performance on unseen data without parameter tuning. \n",
    "\n",
    "### Explaining Gradient Boosting \n",
    "\n",
    "Gradient boosting is an ensemble machine learning technique. Ensemble-based techniques combine many so-called \"weak\" learners into strong learners. A weak learner is any machine learning algorithm that performs poorly, its accuracy is above chance, but just barely. For example, a single decision tree with less depth (of course, in real-world I always have to consider a specific problem when before saying that an algorithm is weak).\n",
    "\n",
    "**For example:** \n",
    "- I am given some training data I want to train the decision/regression tree classifier on. \n",
    "- I repeatedly ask questions like \"Is the person older than 30?\" until I am able to classify the feature successfully. \n",
    "- Unfortunately, asking a handful of questions is usually not enough to \"win\" such a question game (make an accurate prediction). \n",
    "- However, if I play the game more often and always ask different questions, then most likely increase the overall chance to win the game.\n",
    "\n",
    "Anyway, there is still the question how to combine the different models. This is where the term \"Gradient Boosting\" comes into play. \n",
    "- Basically, Gradient Boosting tries to improve a bad overall result achieved by a set of decision/regression trees by producing a new tree that compensates the error made by the other models.\n",
    "- In other words, I fit a regression tree and obtain a prediction for our training set. \n",
    "- Afterward, the difference is computed between the expected value and our prediction. This is the error made by our model. Then, training a new tree using the error as the new target value.\n",
    "\n",
    "By repeating this process we finally generate a better and better model."
   ]
  },
  {
   "cell_type": "markdown",
   "metadata": {},
   "source": [
    "## Model Tuning \n",
    "\n",
    "Fine tuning the model by using the grid search with at least one important parameter tuned with at least 3 different values. \n",
    "- Import libraries\n",
    "- Initiating classier \n",
    "- Create dictionary of parameters to tune for model \n",
    "        - parameters = {'parameter': [list of values]}\n",
    "- Use make scorer to create fbeta score object with (beta=0.5)\n",
    "- Perform grid search on classifier using the scorer and store it in an object\n",
    "- fit grid search object to training data"
   ]
  },
  {
   "cell_type": "code",
   "execution_count": 12,
   "metadata": {},
   "outputs": [],
   "source": [
    "from sklearn.model_selection import GridSearchCV\n",
    "from sklearn.metrics import make_scorer\n",
    "from sklearn.ensemble import GradientBoostingClassifier"
   ]
  },
  {
   "cell_type": "code",
   "execution_count": null,
   "metadata": {},
   "outputs": [],
   "source": [
    "\"\"\"\n",
    "#Initialising classifier\n",
    "model = GradientBoostingClassifier(random_state=0)\n",
    "\n",
    "#Creating parameters list to tune using a dictionary\n",
    "param_grid = {'max_depth': np.arange(2,10,2),\n",
    "              'min_samples_leaf': [3,5,10],\n",
    "              'n_estimators': [100,150,200]}\n",
    "\n",
    "\n",
    "#Creating fbeta_score scoring object using make_scorer()\n",
    "scorer = make_scorer(fbeta_score,beta=0.5)\n",
    "\n",
    "#Perform grid search on classifier using scorer as the scoring method \n",
    "grid = GridSearchCV(model,param_grid=param_grid,scoring=scorer,n_jobs=10,verbose=10)\n",
    "\n",
    "#Fitting grid search object to training data and finding optimal parameters\n",
    "grid_fit = grid.fit(X_train,y_train)\n",
    "\n",
    "#Getting estimator \n",
    "best_model = grid_fit.best_estimator_\n",
    "\n",
    "print(\"Best parameters: \",best_model)\n",
    "\n",
    "#Making predictions \n",
    "predictions = model.fit(X_train,y_train).predict(X_test)\n",
    "best_predictions = best_model.predict(X_test)\n",
    "\n",
    "\"\"\""
   ]
  },
  {
   "cell_type": "markdown",
   "metadata": {},
   "source": [
    "## Feature Importance\n",
    "An important task is determining which features provide the most predictive power. By focusing on the relationship between only a few crucial features and the target variable -- I simplify the model. \n",
    "\n",
    "In this project, I wish to identify a small number of features that most strongly predict whether an individual makes at most or more than than \\$50,000.\n",
    "\n",
    "Thus, I chose **a sci-kit classifier** (e.g. adaboost, random forests) that has a **feature_importance_** attribute, which is a function that _ranks the importance of features according to the classifier_. \n",
    "\n",
    "### Extracting Feature Performance\n",
    "Choosing a `sci-kit learn` supervised learning algorithm that has a `feature_importance_` attribute available to rank the importance of each feature when making predictions based on the algorithm chosen. "
   ]
  },
  {
   "cell_type": "code",
   "execution_count": 26,
   "metadata": {},
   "outputs": [
    {
     "name": "stdout",
     "output_type": "stream",
     "text": [
      "[0.11646978 0.09920928 0.13469614 0.12645531 0.07215414 0.01663593\n",
      " 0.0093469  0.00063802 0.0080551  0.01679998 0.00108439 0.\n",
      " 0.         0.         0.         0.         0.         0.\n",
      " 0.         0.         0.         0.         0.         0.00078882\n",
      " 0.         0.00032652 0.00325507 0.00077654 0.         0.00877978\n",
      " 0.12048277 0.00200985 0.00346957 0.         0.0004431  0.00103284\n",
      " 0.         0.         0.03353741 0.02575067 0.01098044 0.00881954\n",
      " 0.02371988 0.         0.02059776 0.00816304 0.01393628 0.01091407\n",
      " 0.         0.01665547 0.00117322 0.00162452 0.00414705 0.\n",
      " 0.02495729 0.         0.00083943 0.0019967  0.         0.00540884\n",
      " 0.00664838 0.01404158 0.00237017 0.00476092 0.         0.\n",
      " 0.         0.         0.         0.         0.         0.\n",
      " 0.         0.         0.00056198 0.         0.         0.\n",
      " 0.         0.         0.         0.         0.         0.\n",
      " 0.00114867 0.00092356 0.         0.00395553 0.         0.\n",
      " 0.         0.         0.         0.00049466 0.         0.\n",
      " 0.00395979 0.         0.         0.00055191 0.00445142 0.\n",
      " 0.        ]\n"
     ]
    }
   ],
   "source": [
    "#fitting this classifier to use attribute to determine most important features\n",
    "model = GradientBoostingClassifier(random_state=0)\n",
    "model.fit(X_train,y_train)\n",
    "\n",
    "#Extracting features \n",
    "importances = model.feature_importances_\n",
    "\n",
    "predictions = model.predict(X_test)\n",
    "\n",
    "print(importances)"
   ]
  },
  {
   "cell_type": "code",
   "execution_count": 21,
   "metadata": {},
   "outputs": [
    {
     "data": {
      "image/png": "[encoded data removed]",
      "text/plain": [
       "<Figure size 648x360 with 1 Axes>"
      ]
     },
     "metadata": {},
     "output_type": "display_data"
    }
   ],
   "source": [
    "def feature_plot(importances, X_train, y_train):\n",
    "    \n",
    "    # Display the five most important features\n",
    "    indices = np.argsort(importances)[::-1]\n",
    "    columns = X_train.columns.values[indices[:5]]\n",
    "    values = importances[indices][:5]\n",
    "\n",
    "    # Creat the plot\n",
    "    fig = plt.figure(figsize = (9,5))\n",
    "    \n",
    "    #Title\n",
    "    plt.title(\"Normalized Weights for First Five Most Predictive Features\", fontsize = 16)\n",
    "    \n",
    "    #Creating layout\n",
    "    plt.bar(np.arange(5), values, width = 0.6, align=\"center\", color = '#00A000', \\\n",
    "          label = \"Feature Weight\")\n",
    "    \n",
    "    #Inputting numbers\n",
    "    plt.bar(np.arange(5) - 0.3, np.cumsum(values), width = 0.2, \n",
    "            align = \"center\", color = '#00A0A0', \\\n",
    "          label = \"Cumulative Feature Weight\")\n",
    "    \n",
    "    #Rewriting x,ylabels\n",
    "    plt.xticks(np.arange(5), columns)\n",
    "    plt.xlim((-0.5, 4.5))\n",
    "    plt.ylabel(\"Weight\", fontsize = 12)\n",
    "    plt.xlabel(\"Feature\", fontsize = 12)\n",
    "    \n",
    "    plt.legend(loc = 'upper center')\n",
    "    plt.tight_layout()\n",
    "    plt.show()  \n",
    "\n",
    "feature_plot(importances,X_train,y_train)"
   ]
  },
  {
   "cell_type": "markdown",
   "metadata": {},
   "source": [
    "Most top 5 important features contribute more than half of the importance of **all** features present in the data. Thus, by using the same optimized model I found earlier and train it on the training set with _only the top five important features."
   ]
  },
  {
   "cell_type": "code",
   "execution_count": 1,
   "metadata": {},
   "outputs": [
    {
     "ename": "NameError",
     "evalue": "name 'X_train' is not defined",
     "output_type": "error",
     "traceback": [
      "\u001b[1;31m---------------------------------------------------------------------------\u001b[0m",
      "\u001b[1;31mNameError\u001b[0m                                 Traceback (most recent call last)",
      "\u001b[1;32m<ipython-input-1-5ae4289569af>\u001b[0m in \u001b[0;36m<module>\u001b[1;34m()\u001b[0m\n\u001b[0;32m      5\u001b[0m \u001b[1;33m\u001b[0m\u001b[0m\n\u001b[0;32m      6\u001b[0m \u001b[1;31m# Reduce the feature space\u001b[0m\u001b[1;33m\u001b[0m\u001b[1;33m\u001b[0m\u001b[0m\n\u001b[1;32m----> 7\u001b[1;33m \u001b[0mX_train_reduced\u001b[0m \u001b[1;33m=\u001b[0m \u001b[0mX_train\u001b[0m\u001b[1;33m[\u001b[0m\u001b[0mX_train\u001b[0m\u001b[1;33m.\u001b[0m\u001b[0mcolumns\u001b[0m\u001b[1;33m.\u001b[0m\u001b[0mvalues\u001b[0m\u001b[1;33m[\u001b[0m\u001b[1;33m(\u001b[0m\u001b[0mnp\u001b[0m\u001b[1;33m.\u001b[0m\u001b[0margsort\u001b[0m\u001b[1;33m(\u001b[0m\u001b[0mimportances\u001b[0m\u001b[1;33m)\u001b[0m\u001b[1;33m[\u001b[0m\u001b[1;33m:\u001b[0m\u001b[1;33m:\u001b[0m\u001b[1;33m-\u001b[0m\u001b[1;36m1\u001b[0m\u001b[1;33m]\u001b[0m\u001b[1;33m)\u001b[0m\u001b[1;33m[\u001b[0m\u001b[1;33m:\u001b[0m\u001b[1;36m5\u001b[0m\u001b[1;33m]\u001b[0m\u001b[1;33m]\u001b[0m\u001b[1;33m]\u001b[0m\u001b[1;33m\u001b[0m\u001b[0m\n\u001b[0m\u001b[0;32m      8\u001b[0m \u001b[0mX_test_reduced\u001b[0m \u001b[1;33m=\u001b[0m \u001b[0mX_test\u001b[0m\u001b[1;33m[\u001b[0m\u001b[0mX_test\u001b[0m\u001b[1;33m.\u001b[0m\u001b[0mcolumns\u001b[0m\u001b[1;33m.\u001b[0m\u001b[0mvalues\u001b[0m\u001b[1;33m[\u001b[0m\u001b[1;33m(\u001b[0m\u001b[0mnp\u001b[0m\u001b[1;33m.\u001b[0m\u001b[0margsort\u001b[0m\u001b[1;33m(\u001b[0m\u001b[0mimportances\u001b[0m\u001b[1;33m)\u001b[0m\u001b[1;33m[\u001b[0m\u001b[1;33m:\u001b[0m\u001b[1;33m:\u001b[0m\u001b[1;33m-\u001b[0m\u001b[1;36m1\u001b[0m\u001b[1;33m]\u001b[0m\u001b[1;33m)\u001b[0m\u001b[1;33m[\u001b[0m\u001b[1;33m:\u001b[0m\u001b[1;36m5\u001b[0m\u001b[1;33m]\u001b[0m\u001b[1;33m]\u001b[0m\u001b[1;33m]\u001b[0m\u001b[1;33m\u001b[0m\u001b[0m\n\u001b[0;32m      9\u001b[0m \u001b[1;33m\u001b[0m\u001b[0m\n",
      "\u001b[1;31mNameError\u001b[0m: name 'X_train' is not defined"
     ]
    }
   ],
   "source": [
    "# Import functionality for cloning a model\n",
    "from sklearn.base import clone\n",
    "from sklearn.metrics import accuracy_score\n",
    "from sklearn.metrics import fbeta_score\n",
    "\n",
    "# Reduce the feature space\n",
    "X_train_reduced = X_train[X_train.columns.values[(np.argsort(importances)[::-1])[:5]]]\n",
    "X_test_reduced = X_test[X_test.columns.values[(np.argsort(importances)[::-1])[:5]]]\n",
    "\n",
    "# Train on the \"best\" model found from grid search earlier\n",
    "clf = (clone(model)).fit(X_train_reduced, y_train)\n",
    "\n",
    "# Make new predictions\n",
    "reduced_predictions = clf.predict(X_test_reduced)\n",
    "\n",
    "# Report scores from the final model using both versions of data\n",
    "print(\"Final Model trained on full data\\n------\")\n",
    "print(\"Accuracy on testing data: {:.4f}\".format(accuracy_score(y_test, predictions)))\n",
    "print(\"F-score on testing data: {:.4f}\".format(fbeta_score(y_test, predictions, beta = 0.5)))\n",
    "print(\"\\nFinal Model trained on reduced data\\n------\")\n",
    "print(\"Accuracy on testing data: {:.4f}\".format(accuracy_score(y_test, reduced_predictions)))\n",
    "print(\"F-score on testing data: {:.4f}\".format(fbeta_score(y_test, reduced_predictions, beta = 0.5)))\n",
    "\n"
   ]
  },
  {
   "cell_type": "code",
   "execution_count": null,
   "metadata": {},
   "outputs": [],
   "source": []
  }
 ],
 "metadata": {
  "kernelspec": {
   "display_name": "Python 3",
   "language": "python",
   "name": "python3"
  },
  "language_info": {
   "codemirror_mode": {
    "name": "ipython",
    "version": 3
   },
   "file_extension": ".py",
   "mimetype": "text/x-python",
   "name": "python",
   "nbconvert_exporter": "python",
   "pygments_lexer": "ipython3",
   "version": "3.6.5"
  }
 },
 "nbformat": 4,
 "nbformat_minor": 2
}
